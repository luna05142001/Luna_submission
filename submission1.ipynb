{
 "cells": [
  {
   "cell_type": "code",
   "execution_count": 1,
   "id": "150ba46f",
   "metadata": {},
   "outputs": [
    {
     "name": "stdout",
     "output_type": "stream",
     "text": [
      "24\n"
     ]
    }
   ],
   "source": [
    "def multiply_list(s):\n",
    "    if not s:\n",
    "        return 0\n",
    "    str_list=s.split()\n",
    "    int_list=list(map(int,str_list))\n",
    "    product=1\n",
    "    for num in int_list:\n",
    "        product=product*num\n",
    "        \n",
    "    return product\n",
    "input_str = \"1 2 3 4\"\n",
    "result = multiply_list(input_str)\n",
    "print(result)\n"
   ]
  },
  {
   "cell_type": "code",
   "execution_count": 6,
   "id": "e0395d4a",
   "metadata": {},
   "outputs": [
    {
     "name": "stdout",
     "output_type": "stream",
     "text": [
      "2\n"
     ]
    }
   ],
   "source": [
    "def count_common_chars(s):\n",
    "    str_list=s.split()\n",
    "    word1=list(str_list[0])\n",
    "    word2=list(str_list[1])\n",
    "    set1=set(word1) #set is the function  used to store collections of unique elements.\n",
    "    set2=set(word2)\n",
    "    common_char=set1&set2 # & is used to find the intersection of two sets.\n",
    "    return len(common_char)\n",
    "\n",
    "\n",
    "input_str = \"green red\"\n",
    "result = count_common_chars(input_str)\n",
    "print(result)\n",
    "        \n",
    "    "
   ]
  },
  {
   "cell_type": "code",
   "execution_count": 19,
   "id": "3bbf2452",
   "metadata": {},
   "outputs": [
    {
     "name": "stdout",
     "output_type": "stream",
     "text": [
      "6\n"
     ]
    }
   ],
   "source": [
    "def sum_divisible_by_k(N,K):\n",
    "    if N<1:\n",
    "        return -1\n",
    "    if K==0:\n",
    "        return -1\n",
    "    number_list=list(range(1,N+1))\n",
    "    subset_list=[]\n",
    "    \n",
    "    for i in number_list:\n",
    "        if i%K==0:\n",
    "            subset_list.append(i)\n",
    "            \n",
    "    sum_number=sum(subset_list)\n",
    "    return sum_number\n",
    "\n",
    "result = sum_divisible_by_k(5,2)\n",
    "print(result)"
   ]
  },
  {
   "cell_type": "code",
   "execution_count": 28,
   "id": "d70da736",
   "metadata": {},
   "outputs": [
    {
     "name": "stdout",
     "output_type": "stream",
     "text": [
      "2\n"
     ]
    }
   ],
   "source": [
    "def highest_common_factor(number1,number2):\n",
    "    factor1=[]\n",
    "    factor2=[]\n",
    "    for i in range(1,number1+1):\n",
    "        if number1%i==0:\n",
    "            factor1.append(i)\n",
    "    for p in range(1,number2+1):\n",
    "        if number2%p==0:\n",
    "            factor2.append(p)\n",
    "            \n",
    "    set1=set(factor1)\n",
    "    set2=set(factor2)\n",
    "    common_factor=set1&set2\n",
    "    return max(common_factor)\n",
    "\n",
    "result = highest_common_factor(8,6)\n",
    "print(result)            "
   ]
  },
  {
   "cell_type": "code",
   "execution_count": 30,
   "id": "ec66e51e",
   "metadata": {},
   "outputs": [
    {
     "name": "stdout",
     "output_type": "stream",
     "text": [
      "2\n"
     ]
    }
   ],
   "source": [
    "def get_minimum(list):\n",
    "    set0=set(list)\n",
    "    return min(set0)\n",
    "result = get_minimum([2,2,3,4,5,7,10])\n",
    "print(result)  "
   ]
  },
  {
   "cell_type": "code",
   "execution_count": 31,
   "id": "677e44fb",
   "metadata": {},
   "outputs": [],
   "source": [
    "import pandas as pd\n",
    "def rename_col(dataframe,old_col_name,new_col_name):\n",
    "    df=dataframe.rename(columns={old_col_name:new_col_name})\n",
    "    return df"
   ]
  },
  {
   "cell_type": "code",
   "execution_count": 41,
   "id": "94869378",
   "metadata": {},
   "outputs": [],
   "source": [
    "import math\n",
    "def standard_deviation(series):\n",
    "    if len(series)==0:\n",
    "        return 0\n",
    "    mean=sum(series)/len(series)\n",
    "    sum_num=0\n",
    "    for i in series:\n",
    "        num=(i-mean)**2\n",
    "        sum_num=sum_num+num\n",
    "    variance=sum_num/len(series)\n",
    "    std_dev = math.sqrt(variance)\n",
    "    return std_dev"
   ]
  },
  {
   "cell_type": "code",
   "execution_count": 61,
   "id": "85c0b311",
   "metadata": {},
   "outputs": [
    {
     "name": "stdout",
     "output_type": "stream",
     "text": [
      "0\n"
     ]
    }
   ],
   "source": [
    "import numpy as np\n",
    "import pandas as pd\n",
    "\n",
    "def correlation_sum(string):\n",
    "    str_list=string.split()\n",
    "    if len(str_list)<9:\n",
    "        return 0\n",
    "    matrix=np.array(str_list).reshape(3,3)\n",
    "    df=pd.DataFrame(matrix)\n",
    "    return df\n",
    "\n",
    "\n",
    "correlation_matrix=result.corr()\n",
    "sum_of_correlation = correlation_matrix.values.sum()\n",
    "sum_of_correlation_rounded = round(sum_of_correlation, 1)\n",
    "sum_of_correlation_rounded\n",
    "  "
   ]
  }
 ],
 "metadata": {
  "kernelspec": {
   "display_name": "Python 3 (ipykernel)",
   "language": "python",
   "name": "python3"
  },
  "language_info": {
   "codemirror_mode": {
    "name": "ipython",
    "version": 3
   },
   "file_extension": ".py",
   "mimetype": "text/x-python",
   "name": "python",
   "nbconvert_exporter": "python",
   "pygments_lexer": "ipython3",
   "version": "3.11.5"
  }
 },
 "nbformat": 4,
 "nbformat_minor": 5
}
